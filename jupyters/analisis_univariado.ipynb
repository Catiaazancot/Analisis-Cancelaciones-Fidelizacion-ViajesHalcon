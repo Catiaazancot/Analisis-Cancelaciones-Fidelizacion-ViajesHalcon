{
 "cells": [
  {
   "cell_type": "markdown",
   "metadata": {},
   "source": [
    "## Análisis univariado de las variables categóricas, numéricas y temporales"
   ]
  },
  {
   "cell_type": "markdown",
   "metadata": {},
   "source": [
    "Realizar un análisis univariado para comprender la distribución de cada variable del dataset.\n",
    "Este paso permite identificar desbalances, valores predominantes y preparar el terreno para el análisis multivariante."
   ]
  },
  {
   "cell_type": "code",
   "execution_count": null,
   "metadata": {},
   "outputs": [],
   "source": [
    "# Importaciones de paquetes\n",
    "import pandas as pd\n",
    "pd.set_option('display.max_columns', None)\n",
    "import numpy as np\n",
    "# Importaciones de unidades de soporte\n",
    "import sys\n",
    "sys.path.append(\"..\")\n",
    "from src import sp_eda as sp"
   ]
  },
  {
   "cell_type": "code",
   "execution_count": null,
   "metadata": {},
   "outputs": [],
   "source": [
    "df = pd.read_csv(\"../data/halcon_viajes_limpios.csv\") # Leer el archivo"
   ]
  },
  {
   "cell_type": "markdown",
   "metadata": {},
   "source": [
    "### Análisis de las columnas categóricas"
   ]
  },
  {
   "cell_type": "code",
   "execution_count": null,
   "metadata": {},
   "outputs": [],
   "source": [
    "# Seleccionar columnas categóricas\n",
    "col_cat = ['género', 'ubicación', 'tipo_viajero',\n",
    "        'tipo_paquete','metodo_pago', 'destino', 'tipo_alojamiento', 'clase_vuelo',\n",
    "       'actividades_reservadas', 'promocion_aplicada', 'fuente_reserva', 'estado_reserva', \n",
    "       'estacionalidad', 'cancelacion_reserva', 'comentarios', 'rango_edad']\n",
    "# Llamar a la función que analiza las columnas categóricas\n",
    "sp.subplot_col_cat(df, col_cat)"
   ]
  },
  {
   "cell_type": "markdown",
   "metadata": {},
   "source": [
    "Conclusiones del análisis de las variables categóricas\n",
    "\n",
    "1. **género**: La mayoría de los registros corresponden al género 'otro' seguido de 'masculino' y 'femenino' con una distribución igualada.\n",
    "\n",
    "2. **ubicación**: Distribución uniforme, quedándose méxico una unaminoría significativa.\n",
    "\n",
    "3. **tipo_viajero**: El tipo de viajero turista representa el doble del de negocios, lo que refleja las tendencias generales del sector de viajes y podría influir en las decisiones de marketing y las promociones de la empresa.\n",
    "\n",
    "4. **tipo_paquete**: Los paquetes más frecuentes son 'solo_vuelo' y 'vuelo_hotel_tour'.\n",
    "\n",
    "5. **metodo_pago**: Distribución uniforme en los tres métodos.\n",
    "\n",
    "6. **destino**: Tokio y Nueva York son los destinos más populares seguido de Paris y Londres, lo cual podría ayudar a la empresa a optimizar sus ofertas y promociones hacia estos destinos.\n",
    "\n",
    "7. **tipo_alojamiento**: Los tipos más comunes son airbnb y hotel.\n",
    "\n",
    "8. **clase_vuelo**: La mayoría de las reservas se encuentran en la clase económica, lo que es esperado debido al costo generalmente más bajo. Las clases superiores representan una porción pequeña, lo que puede reflejar una segmentación de clientes más premium.\n",
    "\n",
    "9. **actividades_reservadas**: Muchas reservas no incluyen actividades adicionales, lo que indica que los viajeros prefieren opciones de viaje más simples o no están interesados en actividades adicionales. En cuanto a los tipos de actividad, no destaca ninguna.\n",
    "\n",
    "10. **promocion_aplicada**: Se distribuye a partes iguales. Es relevante para entender la efectividad de las campañas promocionales.\n",
    "\n",
    "11. **fuente_reserva**: Agentes de viajes y la app del móvil son los más utilizados. El sitio web se lleva la minoría.\n",
    "\n",
    "12. **estado_reserva**: Hay una cantidad muy significativa de reservas canceladas. Casi el triple que confirmadas. El numero de reservas pendientes también es relevante.\n",
    "\n",
    "13. **estacionalidad**: Se reparten a partes iguales, quedando brevemente por encima la temporada alta.\n",
    "\n",
    "14. **cancelacion_reserva**: El número de cancelaciones es preocupante, se iguala al número de no cancelaciones. Analizar las razones de las cancelaciones Será crucial para mejorar la retención y entender las dinámicas del comportamiento del cliente.\n",
    "\n",
    "15. **rango_edad**: El grupo de 19 a 30 años representa la mayoría. El resto refleja una distribución uniforme, quedando por debajo los mayores de 60 años.\n",
    "\n",
    "16. **comentarios**: Destaca 'problemas con la reserva', además de un número importante de 'no me gustó el servicio'.\n"
   ]
  },
  {
   "cell_type": "markdown",
   "metadata": {},
   "source": [
    "### Análisis de las columnas numéricas"
   ]
  },
  {
   "cell_type": "code",
   "execution_count": null,
   "metadata": {},
   "outputs": [],
   "source": [
    "# Seleccionar columnas numéricas\n",
    "col_num = ['edad', 'antelacion_reserva', 'duracion_viaje', 'numero_personas', 'costo_total', 'numero_noches_estancia', 'calificacion_usuario', 'gasto_por_persona', 'gasto_por_duracion']\n",
    "# Llamar a la función que analiza las variables numéricas\n",
    "sp.subplot_col_num(df, col_num)"
   ]
  },
  {
   "cell_type": "markdown",
   "metadata": {},
   "source": [
    "Conclusiones del análisis de las variables numéricas\n",
    "\n",
    "1. **edad**: No se observan outliers significativos, y la mayoría de los usuarios están dentro de un rango razonable de edad para viajes.\n",
    "\n",
    "2. **antelacion_reserva**: Distribución unirforme\n",
    "\n",
    "3. **duracion_viaje**: Distribución unirforme.\n",
    "\n",
    "4. **numero_personas**: Distribución unirforme.\n",
    "\n",
    "5. **costo_total**: Distribución unirforme.\n",
    "\n",
    "6. **numero_noches_estancia**: Distribución unirforme.\n",
    "\n",
    "7. **calificacion_usuario**: La distribución es bastante equilibrada, pero con una ligera tendencia hacia calificaciones más altas, lo que sugiere que los usuarios generalmente están satisfechos con los servicios proporcionados.\n",
    "\n",
    "8. **gasto_por_persona**: La distribución está centrada en valores moderados, aunque también hay algunos registros con un gasto notablemente más alto, que podrían corresponder a viajes de lujo o grupos grandes.\n",
    "9. **gasto_por_duracion**\n",
    " La distribución es más homogénea en comparación con gasto_por_persona, con un rango de valores más estrecho, lo que indica una relación directa entre el costo y la duración del viaje."
   ]
  },
  {
   "cell_type": "markdown",
   "metadata": {},
   "source": [
    "### Análisis columnas temporales"
   ]
  },
  {
   "cell_type": "code",
   "execution_count": null,
   "metadata": {},
   "outputs": [],
   "source": [
    "# Obtener el nombre del día a partir de 'fecha_reserva' y 'fecha_viaje'\n",
    "df['dia_reserva'] = df['fecha_reserva'].dt.day_name()\n",
    "df['dia_viaje'] = df['fecha_viaje'].dt.day_name()\n",
    "# Seleccionar variables temporales\n",
    "col_fecha = ['fecha_reserva', 'fecha_viaje']\n",
    "# Llamar a la función que analiza las variables temporales\n",
    "sp.analisis_temporal(df, col_fecha)"
   ]
  },
  {
   "cell_type": "markdown",
   "metadata": {},
   "source": [
    "Análisis temporal de la fecha de viaje y fecha de reserva\n",
    "\n",
    "1. **Fecha de Reserva:**\n",
    "   - **Por año**: 2025\n",
    "   - **Por mes**: Tendencia decreciente a lo largo del año. La mayoría de las reservas se encuentran en los 4 primeros meses.\n",
    "   - **Por día**: La gran mayoría reserva los fines de semana. Destacar el miércoles que se lleva el peor día.\n",
    "\n",
    "2. **Fecha de Viaje:**\n",
    "   - **Por año**: 2025\n",
    "   - **Por mes**: A la inversa que la fecha de reserva, tendencia creciente a lo largo del año. Los meses más populares coinciden con las temporadas altas de turismo.\n",
    "   - **Por día**: Tendencia de viaje los sábados, domingos y jueves, destacando este último. La minoría queda reflejada en el lunes, miércoles y viernes.\n",
    "\n",
    "Estos patrones podrían ayudar a la empresa a ajustar sus campañas de marketing, promociones y optimización de recursos para aprovechar estos picos."
   ]
  }
 ],
 "metadata": {
  "kernelspec": {
   "display_name": "Python 3",
   "language": "python",
   "name": "python3"
  },
  "language_info": {
   "codemirror_mode": {
    "name": "ipython",
    "version": 3
   },
   "file_extension": ".py",
   "mimetype": "text/x-python",
   "name": "python",
   "nbconvert_exporter": "python",
   "pygments_lexer": "ipython3",
   "version": "3.12.2"
  }
 },
 "nbformat": 4,
 "nbformat_minor": 2
}
