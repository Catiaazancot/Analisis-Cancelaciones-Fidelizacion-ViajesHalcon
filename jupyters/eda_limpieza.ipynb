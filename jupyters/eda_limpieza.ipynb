{
 "cells": [
  {
   "cell_type": "markdown",
   "metadata": {},
   "source": [
    "# Análisis preliminar del conjunto de datos"
   ]
  },
  {
   "cell_type": "code",
   "execution_count": null,
   "metadata": {},
   "outputs": [],
   "source": [
    "# Importaciones de paquetes\n",
    "import pandas as pd\n",
    "pd.set_option('display.max_columns', None)\n",
    "import numpy as np\n",
    "# Importaciones de unidades de soporte\n",
    "import sys\n",
    "sys.path.append(\"..\")\n",
    "from src import sp_eda as sp"
   ]
  },
  {
   "cell_type": "code",
   "execution_count": 205,
   "metadata": {},
   "outputs": [],
   "source": [
    "df_raw = pd.read_csv(\"../data/halcon_viajes_data.csv\") # Leer el archivo"
   ]
  },
  {
   "cell_type": "code",
   "execution_count": 206,
   "metadata": {},
   "outputs": [],
   "source": [
    "df = df_raw.copy() # Hacer una copia del dataframe con el que trabajar"
   ]
  },
  {
   "cell_type": "code",
   "execution_count": null,
   "metadata": {},
   "outputs": [],
   "source": [
    "sp.eda_preliminar(df) # Hacer un primer análisis exploratorio de los datos"
   ]
  },
  {
   "cell_type": "markdown",
   "metadata": {},
   "source": [
    "## Limpieza de datos"
   ]
  },
  {
   "cell_type": "code",
   "execution_count": null,
   "metadata": {},
   "outputs": [],
   "source": [
    "df = df.drop(columns=['dni_usuario']) # Eliminar columnas innecesarias para el análisis\n",
    "\n",
    "# Normalización de datos\n",
    "df.columns = df.columns.str.lower()\n",
    "\n",
    "lista_cat = ['género', 'ubicación','tipo_viajero', 'tipo_paquete','metodo_pago', 'destino',\n",
    "       'tipo_alojamiento', 'clase_vuelo', 'actividades_reservadas', 'fuente_reserva','estado_reserva', 'estacionalidad',\n",
    "       'comentarios']\n",
    "for col in lista_cat:\n",
    "  df[col] = df[col].str.replace(\" \",\"_\").str.lower()\n",
    "\n",
    "# Convertir los datos a un formato coherente y consistente\n",
    "df['género'] = df['género'].map({'female':'femenino', 'male':'masculino','other':'otro'})\n",
    "df['ubicación'] = df['ubicación'].replace({'germany':'alemania', 'spain':'españa'})\n",
    "df['tipo_viajero'] = df['tipo_viajero'].replace({'tusirta':'turista'})\n",
    "df['tipo_paquete'] = df['tipo_paquete'].replace({'vuelo_+_hotel_+_tour': 'vuelo_hotel_tour', 'vuelo_+_hotel':'vuelo_hotel' })\n",
    "df['destino'] = df['destino'].replace({'new_york':'nueva_york','london':'londres','rome':'roma','tokyo':'tokio'})\n",
    "\n",
    "# Reemplazar True por 'si' y False por 'no' en las columnas booleanas\n",
    "col_bool = ['promocion_aplicada', 'cancelacion_reserva']\n",
    "df[col_bool] = df[col_bool].applymap(lambda x: 'si' if x else 'no')\n",
    "\n",
    "# Convertir las columnas temporales a tipo datetime\n",
    "for col in ['fecha_reserva', 'fecha_viaje']:\n",
    "    df[col] = pd.to_datetime(df[col], format='%Y|%m|%d %H:%M:%S', errors='coerce')\n",
    "    df[col] = df[col].dt.strftime('%Y/%m/%d')\n",
    "    df[col] = pd.to_datetime(df[col], format='%Y/%m/%d', errors='coerce')"
   ]
  },
  {
   "cell_type": "markdown",
   "metadata": {},
   "source": [
    "## Validación de datos"
   ]
  },
  {
   "cell_type": "code",
   "execution_count": null,
   "metadata": {},
   "outputs": [],
   "source": [
    "# Validación de fechas: Asegurar que 'fecha_reserva' sea anterior a 'fecha_viaje'.\n",
    "validacion_fecha = df[df['fecha_reserva'] > df['fecha_viaje']]\n",
    "\n",
    "# Verificar que la duración del viaje es mayor que el número de noches de estancia\n",
    "validacion_duracion = df[df['duracion_viaje'] <= df['numero_noches_estancia']]\n",
    "\n",
    "# Verificar que el valor de 'mes_viaje' se corresponda con el mes de 'fecha_viaje'\n",
    "validacion_mes_viaje = df[df['mes_viaje'] != df['fecha_viaje'].dt.month]\n",
    "\n",
    "# Verificar que el valor de 'mes_reserva' se corresponda con el mes de 'fecha_reserva'\n",
    "validacion_mes_reserva = df[df['mes_reserva'] != df['fecha_reserva'].dt.month]\n",
    "\n",
    "# Verificar que las columnas 'estado_reserva' y 'cancelacion_reserva' sean coherentes\n",
    "validacion_estado_cancelacion = df[(df['estado_reserva'] == 'cancelada') & (df['cancelacion_reserva'] != 'si') | (df['estado_reserva'] != 'cancelada') & (df['cancelacion_reserva'] == 'si')]"
   ]
  },
  {
   "cell_type": "code",
   "execution_count": null,
   "metadata": {},
   "outputs": [],
   "source": [
    "# Corregir datos inconsistentes\n",
    "df['mes_viaje'] = df['fecha_viaje'].dt.month\n",
    "df['mes_reserva'] = df['fecha_reserva'].dt.month\n",
    "# Corregir las inconsistencias entre 'estado_reserva' y 'cancelacion_reserva'\n",
    "df.loc[(df['estado_reserva'] == 'cancelada') & (df['cancelacion_reserva'] != 'si'), 'cancelacion_reserva'] = 'si'\n",
    "df.loc[(df['estado_reserva'] != 'cancelada') & (df['cancelacion_reserva'] == 'si'), 'cancelacion_reserva'] = 'no'"
   ]
  },
  {
   "cell_type": "markdown",
   "metadata": {},
   "source": [
    "## Explicaciones de las inconsistencias detectadas en la validación de datos"
   ]
  },
  {
   "cell_type": "markdown",
   "metadata": {},
   "source": [
    "### 1. Duración del viaje y número de noches de estancia\n",
    "\n",
    "Durante el proceso de validación de datos, se observó que en **379 registros** de los datos, la **duración del viaje** es **menor o igual** al **número de noches de estancia**. Este comportamiento podría parecer ilógico, ya que se esperaría que la duración total del viaje sea siempre mayor que el número de noches pasadas en el destino.\n",
    "\n",
    "Sin embargo, después de revisar los datos y el contexto del negocio, se concluyó que **no hay un error en los datos**. La discrepancia puede ser explicada por varias razones legítimas, como:\n",
    "- Los viajeros pueden haber reservado viajes largos, pero con una estancia corta en el destino, lo que hace que la duración del viaje sea mayor que la estancia en sí.\n",
    "- La duración del viaje podría incluir tiempos de vuelo, escalas o trayectos que no se cuentan como noches de estancia en el destino.\n",
    "\n",
    "#### Decisión tomada:\n",
    "Se decidió **mantener los datos tal como están**. No se realizaron modificaciones a las columnas `duracion_viaje` y `numero_noches_estancia`, ya que el comportamiento observado es plausible dentro del contexto de la gestión de viajes.\n",
    "\n",
    "#### Impacto:\n",
    "Este enfoque garantiza que no se eliminen registros ni se modifiquen datos válidos. Además, se preserva la integridad de los datos sin hacer suposiciones adicionales sobre el comportamiento de los usuarios."
   ]
  },
  {
   "cell_type": "markdown",
   "metadata": {},
   "source": [
    "### 2. Correcciones realizadas en el dataset\n",
    "\n",
    "Durante el proceso de validación y limpieza de datos, se realizaron las siguientes correcciones para asegurar la consistencia de las columnas relacionadas con las fechas y los meses:\n",
    "\n",
    "#### Correlación entre 'mes_viaje' y 'fecha_viaje'\n",
    "Se observó que en un gran porcentaje de los datos el valor de **`mes_viaje`** no coincidía con el mes real extraído de la columna **`fecha_viaje`**. Este desajuste fue corregido de la siguiente manera:\n",
    "\n",
    "- La columna **`mes_viaje`** fue actualizada para reflejar correctamente el mes extraído de la columna **`fecha_viaje`** utilizando la función `dt.month` de pandas.\n",
    "\n",
    "**Impacto**: Esto asegura que la columna **`mes_viaje`** sea consistente con el mes de la fecha de viaje, mejorando la precisión de los análisis relacionados con las fechas.\n",
    "\n",
    "#### Correlación entre 'mes_reserva' y 'fecha_reserva'\n",
    "En algunos registros, el valor de **`mes_reserva`** no coincidía con el mes real extraído de la columna **`fecha_reserva`**. Para corregir esto:\n",
    "\n",
    "- La columna **`mes_reserva`** fue actualizada para coincidir con el mes extraído de la columna **`fecha_reserva`**, utilizando la misma función `dt.month`.\n",
    "\n",
    "**Impacto**: Este ajuste asegura que la columna **`mes_reserva`** esté alineada con el mes de la fecha de reserva, facilitando la correcta interpretación y análisis de los datos relacionados con las fechas de reserva."
   ]
  },
  {
   "cell_type": "markdown",
   "metadata": {},
   "source": [
    "### 3. Consistencia entre 'estado_reserva' y 'cancelacion_reserva'\n",
    "\n",
    "Se identificaron algunos registros donde había incoherencias entre las dos columnas:\n",
    "- En algunos casos, el estado de la reserva era **`cancelada`** pero **`cancelacion_reserva`** era **`no`**.\n",
    "- En otros casos, el estado de la reserva no era **`cancelada`**, pero **`cancelacion_reserva`** era **`si`**.\n",
    "\n",
    "#### Acción tomada:\n",
    "Se corrigieron estos registros, ajustando la columna **`cancelacion_reserva`** para que refleje correctamente el estado de la reserva:\n",
    "- Si la reserva fue **`cancelada`**, **`cancelacion_reserva`** se cambió a **`si`**.\n",
    "- Si la reserva no fue **`cancelada`**, **`cancelacion_reserva`** se cambió a **`no`**.\n",
    "\n",
    "#### Impacto:\n",
    "Este ajuste garantiza que las columnas **`estado_reserva`** y **`cancelacion_reserva`** sean consistentes, lo que mejora la calidad de los datos para los análisis posteriores."
   ]
  },
  {
   "cell_type": "markdown",
   "metadata": {},
   "source": [
    "## Gestión de valores atípicos"
   ]
  },
  {
   "cell_type": "code",
   "execution_count": 233,
   "metadata": {},
   "outputs": [],
   "source": [
    "# Creamos un dataframe con las columnas numericas\n",
    "columnas_num = df.select_dtypes(include = np.number).columns.to_list()\n",
    "lista_eliminar = [ 'mes_reserva', 'mes_viaje']\n",
    "for col in lista_eliminar:\n",
    "  columnas_num.remove(col)"
   ]
  },
  {
   "cell_type": "code",
   "execution_count": null,
   "metadata": {},
   "outputs": [],
   "source": [
    "# Observamos las medidas estadísticas\n",
    "df[columnas_num].describe().T"
   ]
  },
  {
   "cell_type": "code",
   "execution_count": null,
   "metadata": {},
   "outputs": [],
   "source": [
    "# Comprobamos la presencia de valores atípicos comparando los histogramas con los diagramas de cajas de cada columna\n",
    "sp.plot_outliers(df, columnas_num )"
   ]
  },
  {
   "cell_type": "markdown",
   "metadata": {},
   "source": [
    "En base a los análisis visuales realizados, **no se han identificado valores atípicos** en el dataset. Esto indica que los datos parecen estar bien distribuidos y dentro de rangos razonables."
   ]
  },
  {
   "cell_type": "markdown",
   "metadata": {},
   "source": [
    "## Gestión de nulos"
   ]
  },
  {
   "cell_type": "code",
   "execution_count": null,
   "metadata": {},
   "outputs": [],
   "source": [
    "df.isnull().sum()"
   ]
  },
  {
   "cell_type": "markdown",
   "metadata": {},
   "source": [
    "Se observaron algunos **valores nulos** en tres columnas del dataset. Estos valores nulos tienen un **sentido lógico** y **no indican errores** en la recopilación de datos, sino que reflejan casos específicos dentro del contexto del negocio.\n",
    "\n",
    "**Columna 'comentarios'**: Algunos usuarios pueden no dejar comentarios, ya que no todos los clientes proporcionan retroalimentación sobre su experiencia.\n",
    "\n",
    "**Columna 'tipo_alojamiento' y 'actividades_reservadas' para 'Solo vuelo'**: Se espera que para 'solo vuelo' no haya valores en las columnas **`tipo_alojamiento`** o **`actividades_reservadas`**."
   ]
  },
  {
   "cell_type": "code",
   "execution_count": 236,
   "metadata": {},
   "outputs": [],
   "source": [
    "# Rellenar los nulos con valores fijos\n",
    "df['tipo_alojamiento'] = df['tipo_alojamiento'].fillna('Sin alojamiento')\n",
    "df['actividades_reservadas'] = df['actividades_reservadas'].fillna('Sin actividad') \n",
    "df['comentarios'] = df['comentarios'].fillna('Sin comentarios')"
   ]
  },
  {
   "cell_type": "markdown",
   "metadata": {},
   "source": [
    "## Creación de nuevas columnas interesantes para el análisis"
   ]
  },
  {
   "cell_type": "code",
   "execution_count": null,
   "metadata": {},
   "outputs": [],
   "source": [
    "# Crear gasto por persona y gasto por duracion del viaje\n",
    "df['gasto_por_persona'] = round(df['costo_total'] / df['numero_personas'], 2)\n",
    "df['gasto_por_duracion'] = round(df['costo_total'] / df['duracion_viaje'],2)\n",
    "# Crear una columna de rango de edad\n",
    "bins = [0, 18, 30, 40, 50, 60, 100]\n",
    "labels = ['0-18', '19-30', '31-40', '41-50', '51-60', '60+']\n",
    "df['rango_edad'] = pd.cut(df['edad'], bins=bins, labels=labels, right=False)\n",
    "# Verificar las nuevas columnas\n",
    "df[['edad','gasto_por_persona', 'gasto_por_duracion', 'rango_edad']].sample(10)"
   ]
  },
  {
   "cell_type": "code",
   "execution_count": 246,
   "metadata": {},
   "outputs": [],
   "source": [
    "df.to_csv(\"../data/halcon_viajes_limpios.csv\", index = False)"
   ]
  }
 ],
 "metadata": {
  "kernelspec": {
   "display_name": "Python 3",
   "language": "python",
   "name": "python3"
  },
  "language_info": {
   "codemirror_mode": {
    "name": "ipython",
    "version": 3
   },
   "file_extension": ".py",
   "mimetype": "text/x-python",
   "name": "python",
   "nbconvert_exporter": "python",
   "pygments_lexer": "ipython3",
   "version": "3.12.2"
  }
 },
 "nbformat": 4,
 "nbformat_minor": 2
}
