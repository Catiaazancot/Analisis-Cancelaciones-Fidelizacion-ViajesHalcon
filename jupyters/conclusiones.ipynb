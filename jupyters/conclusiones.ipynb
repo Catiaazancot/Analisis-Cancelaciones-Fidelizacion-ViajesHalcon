{
 "cells": [
  {
   "cell_type": "markdown",
   "metadata": {},
   "source": [
    "## Conclusiones, recomendaciones y acciones de negocio"
   ]
  },
  {
   "cell_type": "markdown",
   "metadata": {},
   "source": [
    "### Conclusiones\n",
    "Los **patrones de cancelación** muestran que los clientes con una tasa de cancelación más alta son:\n",
    "\n",
    "- Los que reservan en clase económica.\n",
    "- Los que reservan con menor antelación.\n",
    "- Los que reservan viajes cortos.\n",
    "- Los jóvenes, de 19 a 30 años.\n",
    "- Los clientes turistas, en comparación con los de negocio.\n",
    "\n",
    "Las **promociones** no están siendo efectivas para reducir las cancelaciones. Estos grupos cancelan independientemente de si se les aplica promoción o no:\n",
    "\n",
    "- Clientes que escogen el tipo de paquete 'solo_vuelo'.\n",
    "- Clientes con reservas de bajo costo.\n",
    "- Clientes jóvenes.\n",
    "\n",
    "El **tipo de paquete** 'solo_vuelo', además de ser el más frecuente, tiene una tasa de cancelación significativamente mayor que los demás.\n",
    "\n",
    "Los usuarios que reservan **alojamiento en hoteles** tienen una mayor tasa de cancelación, probablemente debido a las políticas flexibles de cancelación.\n",
    "\n",
    "La **razón principal de las cancelaciones** es insatisfacción del cliente, asociada con problemas en la reserva y mala calidad del servicio.\n",
    "\n",
    "Las **cancelaciones y los comentarios negativos** son más frecuentes en agentes de viajes y app móvil. Esto sugiere que estos canales tienen más problemas en términos de satisfacción del cliente."
   ]
  },
  {
   "cell_type": "markdown",
   "metadata": {},
   "source": [
    "### Recomendaciones "
   ]
  },
  {
   "cell_type": "markdown",
   "metadata": {},
   "source": [
    "- **Patrones de cancelación**: Optimizar las estrategias de marketing, ofrecer incentivos para la compra anticipada y viajes largos, y adaptar las promociones para jóvenes y turistas puede ayudar a reducir las cancelaciones significativamente.\n",
    "\n",
    "- **Promociones**: Revaluar y ajustar la estrategia de promociones para hacerlas más efectivas.\n",
    "\n",
    "- **Tipo de paquete**: Fomentar la venta de paquetes completos (vuelo + hotel + tour), ya que tienen una tasa de cancelación significativamente más baja.\n",
    "\n",
    "- **Tipo de alojamiento**: Revisar las políticas de cancelación para los hoteles, ya que su flexibilidad parece estar contribuyendo a una mayor tasa de cancelación.\n",
    "\n",
    "- **Razón de cancelación**: La insatisfacción del cliente es la razón principal de las cancelaciones. Abordar los problemas logísticos y mejorar la calidad del servicio.\n",
    "\n",
    "- **Canales de reserva**: Mejorar la experiencia de usuario tanto en agentes de viaje como en la app móvil, ya que son canales con una mayor tasa de cancelación y comentarios negativos."
   ]
  },
  {
   "cell_type": "markdown",
   "metadata": {},
   "source": [
    "### Acciones de negocio"
   ]
  },
  {
   "cell_type": "markdown",
   "metadata": {},
   "source": [
    "**Patrones de cancelación**:\n",
    "- Incentivar la compra anticipada mediante descuentos exclusivos para quienes reserven con mayor antelación.\n",
    "\n",
    "- Promover viajes largos mediante la creación de paquetes atractivos con beneficios para quienes reserven estancias más largas.\n",
    "\n",
    "- Para los jóvenes, desarrollar estrategias de fidelización para aumentar su compromiso con las reservas, como promociones personalizadas o descuentos adicionales.\n",
    "\n",
    "- Optimizar las ofertas para turistas, creando paquetes que los comprometan más con la reserva, como descuentos en actividades, vuelos de ida y vuelta o servicios adicionales.\n",
    "\n",
    "- Revisar las políticas de cancelación para la clase económica y ofrecer incentivos (como mejoras en el servicio o upgrades) para usuarios que reserven en esta clase, con el objetivo de reducir las cancelaciones.\n",
    "\n",
    "**Promociones**:\n",
    "- Descontinuar promociones en paquetes 'solo_vuelo', ya que los usuarios que eligen este tipo de paquete siguen cancelando independientemente de los descuentos.\n",
    "\n",
    "- Redirigir promociones a reservas de alto costo y dejar de aplicarlas en las de bajo costo, donde las promociones han demostrado no ser efectivas. \n",
    "\n",
    "- Reorientar promociones para adultos mayores, ya que responden mejor a las ofertas, y ajustar estrategias para los jóvenes, que cancelan independientemente de las promociones.\n",
    "\n",
    "**Tipo de paquete**: Ofrecer descuentos o incentivos adicionales para aquellos que opten por paquetes más completos para aumentar el compromiso y reducir las cancelaciones.\n",
    "\n",
    "**Tipo de alojamiento**: Implementar políticas menos flexibles para reservas de hotel o promover estancias más largas con beneficios adicionales para reducir las cancelaciones.\n",
    "\n",
    "**Satisfacción del cliente**: Implementar un sistema de retroalimentación proactiva para identificar problemas en el proceso de reserva y asegurarse de que el servicio sea más satisfactorio, evitando futuras cancelaciones.\n",
    "\n",
    "**Canales de reserva**: Optimizar los procesos en la app móvil y con agentes de viaje, ofreciendo una experiencia de usuario más fluida y mejor atención al cliente para reducir las cancelaciones y mejorar la satisfacción."
   ]
  }
 ],
 "metadata": {
  "language_info": {
   "name": "python"
  }
 },
 "nbformat": 4,
 "nbformat_minor": 2
}
