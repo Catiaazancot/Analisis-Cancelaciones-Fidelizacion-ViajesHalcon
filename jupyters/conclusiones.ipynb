{
 "cells": [
  {
   "cell_type": "markdown",
   "metadata": {},
   "source": [
    "# Conclusiones generales del análisis exploratorio y detallado de los datos"
   ]
  },
  {
   "cell_type": "markdown",
   "metadata": {},
   "source": [
    "## Conclusiones\n",
    "El tipo de viajero turista es el doble que el de negocios. Los turistas presentan una tasa de cancelación más alta, lo que puede reflejar un comportamiento impulsivo o dependiente de factores externos como la disponibilidad de ofertas o condiciones cambiantes.\n",
    "\n",
    "Los paquetes más frecuentes son solo_vuelo y vuelo_hotel_tour. El tipo de paquete solo_vuelo tiene una tasa de cancelación casi el doble que los demás, sugiriendo que los viajeros tienden a cancelar más cuando solo reservan el vuelo.\n",
    "\n",
    " Los usuarios que reservan alojamiento en hoteles tienen una mayor tasa de cancelación, probablemente debido a las políticas flexibles de cancelación. Además, los que no reservan alojamiento tienden a cancelar menos.\n",
    "\n",
    " La mayoría de las reservas se encuentran en clase económica, con una tasa de cancelación más alta en esta clase. Los usuarios de clases superiores tienen menos cancelaciones.\n",
    "\n",
    " Muchas reservas no incluyen actividades adicionales, lo que indica que los viajeros prefieren opciones simples. La elección de actividad no influye significativamente en las cancelaciones\n",
    "\n",
    " Las promociones se distribuyen de manera equitativa, pero no parecen tener un impacto significativo en las cancelaciones, lo que indica que las promociones no están siendo lo suficientemente efectivas para reducir las cancelaciones.\n",
    "\n",
    " Las cancelaciones son más frecuentes a través de agentes de viajes y app móvil, mientras que el sitio web tiene una tasa de cancelación más baja.\n",
    "\n",
    " La razón principal de las cancelaciones es insatisfacción del cliente, asociada con problemas en la reserva y mala calidad del servicio.\n",
    "\n",
    " El grupo de jóvenes (19-30 años) representa la mayoría, con una distribución más uniforme en los otros grupos de edad. Las promociones no son tan efectivas en los jóvenes.\n",
    "\n",
    " Las reservas realizadas con más antelación tienden a tener una menor tasa de cancelación. Además, la duración de los viajes más cortos está asociada con más cancelaciones.\n",
    "\n",
    " Las promociones son más efectivas en los paquetes vuelo_hotel_tour, pero no funcionan tan bien para solo_vuelo, lo que indica que los usuarios que eligen vuelos sin otros servicios están más dispuestos a cancelar.\n",
    "\n",
    " Las promociones son más efectivas en reservas de mayor costo y menos efectivas en reservas de bajo costo.\n",
    "\n",
    " Las promociones tienen un mayor impacto en adultos mayores y no tanto en jóvenes, quienes tienden a ser más impredecibles en su comportamiento.\n",
    "\n",
    " Los comentarios negativos están más asociados con agentes de viaje y app móvil, lo que sugiere que estos canales tienen más problemas en términos de satisfacción del cliente."
   ]
  },
  {
   "cell_type": "markdown",
   "metadata": {},
   "source": [
    "# Recomendaciones "
   ]
  },
  {
   "cell_type": "markdown",
   "metadata": {},
   "source": [
    "**Segmentación y Personalización:**\n",
    "\n",
    "Segmentar campañas de marketing y promociones según el tipo de viajero (turista vs. negocios).\n",
    "\n",
    "Enfocar promociones en los paquetes completos (vuelo + hotel + tour), ya que generan menos cancelaciones.\n",
    "\n",
    "Aplicar promociones personalizadas para jóvenes (ofertas atractivas y de menor costo) y adultos mayores (paquetes completos y promociones premium).\n",
    "\n",
    "**Mejorar la Experiencia del Usuario:**\n",
    "\n",
    "Mejorar la experiencia de usuario en la app móvil y con agentes de viaje, donde se presentan mayores problemas e insatisfacción.\n",
    "\n",
    "Reforzar las políticas de cancelación en hoteles para reducir la tasa de cancelaciones en este segmento.\n",
    "\n",
    "**Optimización de las Promociones:**\n",
    "\n",
    "Optimizar las promociones para las reservas de alto costo, ya que generan mayor compromiso y menores cancelaciones.\n",
    "\n",
    "Implementar promociones más atractivas para los jóvenes con descuentos, actividades adicionales o programas de fidelización.\n",
    "\n",
    "**Fomentar la Anticipación en las Reservas:**\n",
    "\n",
    "Fomentar reservas anticipadas y ofrecer incentivos para reservas de largo plazo para reducir las cancelaciones impulsivas.\n",
    "\n",
    "Aumentar la retención mediante la oferta de paquetes completos para quienes reserven con alta antelación."
   ]
  },
  {
   "cell_type": "markdown",
   "metadata": {},
   "source": [
    "## Acciones de negocio"
   ]
  },
  {
   "cell_type": "markdown",
   "metadata": {},
   "source": [
    "**Estrategia de Promociones**:\n",
    "\n",
    "Aplicar descuentos mayores en paquetes completos (vuelo + hotel + tour) para reducir las cancelaciones.\n",
    "\n",
    "Ajustar las promociones para paquetes de solo vuelo, ofreciendo descuentos adicionales o incentivos extra, ya que este tipo de reserva presenta mayor tasa de cancelación.\n",
    "\n",
    "Realizar campañas de promoción segmentadas para jóvenes, con descuentos atractivos o programas de fidelización que los motiven a mantener su reserva.\n",
    "\n",
    "**Mejoras Operativas:**\n",
    "\n",
    "Optimizar la app móvil y mejorar la experiencia en la reserva a través de agentes de viaje para reducir los comentarios negativos y mejorar la tasa de retención de usuarios.\n",
    "\n",
    "Revisar y ajustar las políticas de cancelación de hoteles para ofrecer una mayor estabilidad y reducir la flexibilidad que favorece las cancelaciones.\n",
    "\n",
    "**Segmentación en Función de la Edad:**\n",
    "\n",
    "Desarrollar promociones y estrategias de fidelización específicamente para adultos mayores, que pueden estar más comprometidos con sus reservas.\n",
    "\n",
    "Implementar programas personalizados para los jóvenes, ofreciendo incentivos como actividades extra o descuentos adicionales para aumentar su compromiso y reducir las cancelaciones.\n",
    "\n",
    "**Estrategia de Precios:**\n",
    "\n",
    "Implementar estrategias de precios premium para las reservas de alto costo, aplicando promociones que no solo sean un descuento, sino que también ofrezcan valor agregado, como servicios adicionales.\n",
    "\n",
    "Fomentar la compra anticipada de reservas a través de descuentos exclusivos para quienes reserven con más de 30 días de antelación, y incentivar las reservas largas con beneficios adicionales.\n",
    "\n"
   ]
  }
 ],
 "metadata": {
  "language_info": {
   "name": "python"
  }
 },
 "nbformat": 4,
 "nbformat_minor": 2
}
