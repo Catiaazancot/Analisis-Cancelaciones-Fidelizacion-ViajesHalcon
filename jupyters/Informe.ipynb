{
 "cells": [
  {
   "cell_type": "markdown",
   "id": "1ca277ec",
   "metadata": {},
   "source": [
    "### Habilidades demostradas en este proyecto\n",
    "Conciencia del impacto en negocio: foco constante en la mejora de la eficiencia operativa y aumento de la retención de clientes.\n",
    "\n",
    "Conocimiento profundo del negocio y enfoque estratégico: formulación de preguntas clave alineadas con los objetivos empresariales para transformar datos en decisiones.\n",
    "\n",
    "Buenas prácticas en calidad, validación y gobernanza del dato: validación de consistencia, tratamiento de nulos y outliers, normalización y limpieza con enfoque en la integridad de la información.\n",
    "\n",
    "Automatización con inteligencia artificial: uso de IA para documentar procesos, asistir en tareas repetitivas y generar código, lo que permitió centrar el esfuerzo en el análisis de valor.\n",
    "\n",
    "Mentalidad orientada a la optimización y al rendimiento: decisiones técnicas siempre acompañadas de criterios de eficiencia y escalabilidad.\n",
    "\n",
    "Análisis exploratorio de datos (EDA)\n",
    "\n",
    "Limpieza y validación de datos\n",
    "\n",
    "Aplicación de clustering con sklearn para la segmentación de clientes\n",
    "\n",
    "Diseño e implementación de una base de datos relacional en PostgreSQL\n",
    "\n",
    "Consultas SQL orientadas al negocio\n",
    "\n",
    "Visualización y storytelling con Power BI\n",
    "\n",
    "ETL básico y modelado de datos"
   ]
  },
  {
   "cell_type": "markdown",
   "id": "4f894a32",
   "metadata": {},
   "source": [
    "tabla acciones de negocio"
   ]
  },
  {
   "cell_type": "markdown",
   "id": "edc106f1",
   "metadata": {},
   "source": [
    "Si se implementan las acciones de negocio propuestas, Halcón Viajes podría reducir su tasa de cancelación hasta en un 10%, gracias a la optimización de las promociones, la incentivación de la compra anticipada y la migración de clientes hacia paquetes más completos.\n",
    "\n",
    "Además, la mejora de la experiencia en los canales de reserva, como la app móvil y los agentes de viajes, podría aumentar la satisfacción del cliente en un 20%, reduciendo los comentarios negativos asociados a problemas de reserva y mal servicio.\n",
    "Como resultado, se espera una mejora significativa en la retención de clientes y un fortalecimiento de la fidelización de los viajeros."
   ]
  }
 ],
 "metadata": {
  "language_info": {
   "name": "python"
  }
 },
 "nbformat": 4,
 "nbformat_minor": 5
}
