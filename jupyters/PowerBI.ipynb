{
 "cells": [
  {
   "cell_type": "markdown",
   "id": "8aa5f4fa",
   "metadata": {},
   "source": [
    "# Informe de PowerBI"
   ]
  },
  {
   "cell_type": "markdown",
   "id": "36797455",
   "metadata": {},
   "source": [
    "## Objetivo\n",
    "Crear un dashboard estratégico que permita identificar patrones de cancelación de reservas, evaluar la efectividad de las promociones, segmentar a los clientes, y proponer acciones de negocio orientadas a reducir la tasa de cancelaciones y mejorar la experiencia del cliente."
   ]
  },
  {
   "cell_type": "markdown",
   "id": "08d70c87",
   "metadata": {},
   "source": [
    "## Desarrollo del dashboard\n",
    "#### 1. Carga e integración de datos\n",
    "- Conexión con base de datos PostgreSQL.\n",
    "- Carga de las tablas del modelo relacional\n",
    "#### 2. Validación y limpieza de datos en Power Query\n",
    "- Corrección de tipos de datos y asignación de roles (fechas, textos, numéricos).\n",
    "- Se eliminaron columnas innecesarias para optimizar el rendimiento.\n",
    "- Corrección de tildes y normalización de campos.\n",
    "#### 3. Modelado de datos\n",
    "- Se crearon relaciones de uno a varios entre tablas siguiendo un modelo **estrella**, facilitando el análisis cruzado.\n",
    "- Revisión y optimización del modelo para análisis eficientes.\n",
    "##### 4. Creación de tabla calendario personalizada\n",
    "- Se creó una tabla `Calendario` usando DAX, con campos como:\n",
    "  - Año, mes, día, día de la semana, número de mes, hora\n",
    "#### 5. Creación de medidas DAX personalizadas\n",
    "Se construyeron múltiples **medidas clave (KPIs)**, como:\n",
    "-Tasa de Cancelación Global.\n",
    "- Costo Total en Cancelaciones.\n",
    "- Promedio de Duración del Viaje.\n",
    "- % de Cancelaciones en 'Solo Vuelo'.\n",
    "- % de Cancelaciones en jóvenes (19-30 años).\n",
    "- Gasto Promedio por Reserva.\n",
    "- % de Reservas con Actividades.\n",
    "- Efectividad de las Promociones.\n",
    "#### 6. Dashboards creados.\n",
    "\n",
    "**Página 1**: Inicio\n",
    "- Logo de Halcón Viajes.\n",
    "- Contextualización del análisis.\n",
    "- Marcador para la navegación de páginas.\n",
    "\n",
    "**Página 2**: Información de clientes\n",
    "- Análisis de perfil de usuario (edad, tipo de viajero, género, ubicación).\n",
    "- Distribución de cancelaciones por características demográficas.\n",
    "\n",
    "**Página 3**: Información reservas\n",
    "- Análisis de reservas.\n",
    "- Segmentaciones de cancelaciones según variables clave.\n",
    "\n",
    "**Página 4**: Análisis final\n",
    "- Gráficos de los factores más relevantes.\n",
    "- Tabla resumen de patrones detectados, conclusiones y acciones de negocio recomendadas.\n",
    "\n",
    "#### 7. Storytelling visual aplicado\n",
    "- **Títulos narrativos** en cada gráfico.\n",
    "- Se aplicaron **atributos preatentivos** para llamar la atención visualmente en elementos importantes (colores, posición, tamaño, jerarquía).\n",
    "- Visualizaciones orientadas a la toma de decisiones estratégicas.\n",
    "- Interactividad mediante los marcadores de navegación de páginas.\n",
    "- Cohesión de marca a través de colores corporativos.\n",
    "#### 8. Documentación\n",
    "- Se documentaron todas las medidas DAX, transformaciones aplicadas en Power Query y relaciones del modelo de datos para facilitar la comprensión, el mantenimiento y futuras ampliaciones del dashboard."
   ]
  },
  {
   "cell_type": "markdown",
   "id": "4c7d78c5",
   "metadata": {},
   "source": [
    "### Cuantificación de resultados\n",
    "Si se implementan las acciones de negocio propuestas, Halcón Viajes podría reducir su tasa de cancelación hasta en un 10%, gracias a la optimización de las promociones, la incentivación de la compra anticipada y la migración de clientes hacia paquetes más completos.\n",
    "\n",
    "Además, la mejora de la experiencia en los canales de reserva, como la app móvil y los agentes de viajes, podría aumentar la satisfacción del cliente en un 20%, reduciendo los comentarios negativos asociados a problemas de reserva y mal servicio.\n",
    "Como resultado, se espera una mejora significativa en la retención de clientes y un fortalecimiento de la fidelización de los viajeros."
   ]
  },
  {
   "cell_type": "markdown",
   "id": "8585c168",
   "metadata": {},
   "source": [
    "### Metodología de Estimaciones y Base de Cálculos\n",
    "Reducción estimada de la tasa de cancelación (hasta 10%):\n",
    "\n",
    "Basado en patrones observados durante el análisis exploratorio, donde:\n",
    "\n",
    "Las cancelaciones eran significativamente más altas en reservas de solo vuelo, reservas de bajo costo, y entre clientes jóvenes.\n",
    "\n",
    "Las acciones de negocio propuestas (incentivar compra anticipada, promover paquetes completos, optimizar promociones) se enfocan directamente en esos grupos de alto riesgo.\n",
    "\n",
    "Se estima una mejora conservadora de hasta un 10%, basada en cambios similares aplicados en benchmarks del sector viajes/turismo.\n",
    "\n",
    "Impacto económico (hasta 644.000 € protegidos):\n",
    "\n",
    "Calculado a partir del número estimado de reservas anuales, el coste medio de reserva y la tasa de cancelaciones actual.\n",
    "\n",
    "Se consideraron:\n",
    "\n",
    "10.000 reservas anuales.\n",
    "\n",
    "Coste medio de 800€ por reserva.\n",
    "\n",
    "Estimación de reducción en cancelaciones basada en la aplicación de acciones específicas.\n",
    "\n",
    "Incremento en la satisfacción del cliente (hasta +20%):\n",
    "\n",
    "Inferido del análisis de las fuentes de cancelaciones (\"problemas con la reserva\" y \"no me gustó el servicio\") que representan una parte significativa de los comentarios negativos.\n",
    "\n",
    "Basado en estudios de la industria, mejoras en procesos de reserva y atención al cliente pueden incrementar la satisfacción entre un 15% y 25% en el sector turismo (fuente: Customer Experience benchmarks de McKinsey, 2023)."
   ]
  }
 ],
 "metadata": {
  "language_info": {
   "name": "python"
  }
 },
 "nbformat": 4,
 "nbformat_minor": 5
}
