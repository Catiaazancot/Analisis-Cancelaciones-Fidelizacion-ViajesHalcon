{
 "cells": [
  {
   "cell_type": "markdown",
   "id": "c48afbf8",
   "metadata": {},
   "source": [
    "# Creación y carga de base de datos en PostgreSQL desde Python"
   ]
  },
  {
   "cell_type": "code",
   "execution_count": null,
   "id": "cd7530c4",
   "metadata": {},
   "outputs": [],
   "source": [
    "# Importar paquetes\n",
    "import pandas as pd \n",
    "import psycopg2 "
   ]
  },
  {
   "cell_type": "code",
   "execution_count": null,
   "id": "f3d24aa9",
   "metadata": {},
   "outputs": [],
   "source": [
    "df = pd.read_csv(\"../data/halcon_viajes_limpios.csv\") # Cargar el archivo"
   ]
  },
  {
   "cell_type": "markdown",
   "id": "f6548c8f",
   "metadata": {},
   "source": [
    "## 1. Crear la base de datos en PostgreSQL"
   ]
  },
  {
   "cell_type": "code",
   "execution_count": null,
   "id": "764aced7",
   "metadata": {},
   "outputs": [],
   "source": [
    "# Una vez creado el modelo relacional, crear el script SQL para crear las tablas de este en postgreSQL, validando que coincidan los tipos de datos con el dataset \n",
    "'''-- Tabla: usuarios\n",
    "CREATE TABLE usuarios (\n",
    "    id_usuario VARCHAR PRIMARY KEY,\n",
    "    edad INT,\n",
    "    género VARCHAR,\n",
    "    ubicación VARCHAR,\n",
    "    tipo_viajero VARCHAR,\n",
    "    rango_edad VARCHAR\n",
    ");\n",
    "\n",
    "-- Tabla: reservas\n",
    "CREATE TABLE reservas (\n",
    "    id_reserva VARCHAR PRIMARY KEY,\n",
    "    id_usuario VARCHAR REFERENCES usuarios(id_usuario),\n",
    "    fecha_reserva VARCHAR,\n",
    "    fecha_viaje VARCHAR,\n",
    "    antelacion_reserva INT,\n",
    "    duracion_viaje INT,\n",
    "    numero_personas INT,\n",
    "    tipo_paquete VARCHAR,\n",
    "    costo_total NUMERIC,\n",
    "    numero_noches_estancia INT,\n",
    "    mes_reserva INT,\n",
    "    mes_viaje INT,\n",
    "    estacionalidad VARCHAR,\n",
    "    estado_reserva VARCHAR,\n",
    "    cancelacion_reserva VARCHAR,\n",
    "    promocion_aplicada VARCHAR,\n",
    "    fuente_reserva VARCHAR\n",
    ");\n",
    "\n",
    "-- Tabla: viajes\n",
    "CREATE TABLE viajes (\n",
    "    id_reserva VARCHAR PRIMARY KEY REFERENCES reservas(id_reserva),\n",
    "    destino VARCHAR,\n",
    "    tipo_alojamiento VARCHAR,\n",
    "    clase_vuelo VARCHAR,\n",
    "    actividades_reservadas VARCHAR\n",
    ");\n",
    "\n",
    "-- Tabla: pagos\n",
    "CREATE TABLE pagos (\n",
    "    id_reserva VARCHAR PRIMARY KEY REFERENCES reservas(id_reserva),\n",
    "    metodo_pago VARCHAR,\n",
    "    gasto_por_persona NUMERIC,\n",
    "    gasto_por_duracion NUMERIC\n",
    ");\n",
    "\n",
    "-- Tabla: feedback\n",
    "CREATE TABLE feedback (\n",
    "    id_reserva VARCHAR PRIMARY KEY REFERENCES reservas(id_reserva),\n",
    "    calificacion_usuario INT,\n",
    "    comentarios VARCHAR\n",
    ");'''"
   ]
  },
  {
   "cell_type": "markdown",
   "id": "69c085e9",
   "metadata": {},
   "source": [
    "## 2. Importar los datos desde Python a PostgreSQL"
   ]
  },
  {
   "cell_type": "markdown",
   "id": "b66860a4",
   "metadata": {},
   "source": [
    "#### Dividir el dataframe original en dataframes por tabla según el modelo relacional creado"
   ]
  },
  {
   "cell_type": "code",
   "execution_count": 8,
   "id": "42888461",
   "metadata": {},
   "outputs": [],
   "source": [
    "# Tabla: usuarios\n",
    "usuarios_df = df[['id_usuario', 'edad', 'género', 'ubicación', 'tipo_viajero', 'rango_edad']].drop_duplicates()\n",
    "\n",
    "# Tabla: reservas\n",
    "reservas_df = df[['id_reserva', 'id_usuario', 'fecha_reserva', 'fecha_viaje', 'antelacion_reserva',\n",
    "                  'duracion_viaje', 'numero_personas', 'tipo_paquete', 'costo_total',\n",
    "                  'numero_noches_estancia', 'mes_reserva', 'mes_viaje', 'estacionalidad',\n",
    "                  'estado_reserva', 'cancelacion_reserva', 'promocion_aplicada', 'fuente_reserva']]\n",
    "\n",
    "# Tabla: viajes\n",
    "viajes_df = df[['id_reserva', 'destino', 'tipo_alojamiento', 'clase_vuelo', 'actividades_reservadas']]\n",
    "\n",
    "# Tabla: pagos\n",
    "pagos_df = df[['id_reserva', 'metodo_pago', 'gasto_por_persona', 'gasto_por_duracion']]\n",
    "\n",
    "# Tabla: feedback\n",
    "feedback_df = df[['id_reserva', 'calificacion_usuario', 'comentarios']]\n"
   ]
  },
  {
   "cell_type": "markdown",
   "id": "92459964",
   "metadata": {},
   "source": [
    "### Insertar todas las tablas a PostgreSQL"
   ]
  },
  {
   "cell_type": "code",
   "execution_count": null,
   "id": "7dfc6859",
   "metadata": {},
   "outputs": [],
   "source": [
    "# 1. Conexión a PostgreSQL\n",
    "conn = psycopg2.connect(\n",
    "    dbname=\"proyecto_viajes_halcon\",\n",
    "    user=\"postgres\",\n",
    "    password=\"admin\",\n",
    "    host=\"localhost\",\n",
    "    port=\"5432\"\n",
    ")\n",
    "# 2. Función para insertar cualquier DataFrame\n",
    "def insertar_dataframe(df, tabla, columnas, conn):\n",
    "    cursor = conn.cursor()\n",
    "    registros = list(df.itertuples(index=False, name=None))\n",
    "    placeholders = ', '.join(['%s'] * len(columnas))\n",
    "    query = f\"\"\"\n",
    "        INSERT INTO {tabla} ({', '.join(columnas)})\n",
    "        VALUES ({placeholders})\n",
    "        ON CONFLICT DO NOTHING;\n",
    "    \"\"\"\n",
    "    cursor.executemany(query, registros)\n",
    "    conn.commit()\n",
    "    print(f\"Insertados en {tabla}: {cursor.rowcount} filas.\")\n",
    "    cursor.close()\n",
    "    \n",
    "# 5. Insertar cada tabla\n",
    "insertar_dataframe(usuarios_df, \"usuarios\", [\n",
    "    \"id_usuario\", \"edad\", \"género\", \"ubicación\", \"tipo_viajero\", \"rango_edad\"\n",
    "], conn)\n",
    "\n",
    "insertar_dataframe(reservas_df, \"reservas\", [\n",
    "    \"id_reserva\", \"id_usuario\", \"fecha_reserva\", \"fecha_viaje\", \"antelacion_reserva\",\n",
    "    \"duracion_viaje\", \"numero_personas\", \"tipo_paquete\", \"costo_total\",\n",
    "    \"numero_noches_estancia\", \"mes_reserva\", \"mes_viaje\", \"estacionalidad\",\n",
    "    \"estado_reserva\", \"cancelacion_reserva\", \"promocion_aplicada\", \"fuente_reserva\"\n",
    "], conn)\n",
    "\n",
    "insertar_dataframe(viajes_df, \"viajes\", [\n",
    "    \"id_reserva\", \"destino\", \"tipo_alojamiento\", \"clase_vuelo\", \"actividades_reservadas\"\n",
    "], conn)\n",
    "\n",
    "insertar_dataframe(pagos_df, \"pagos\", [\n",
    "    \"id_reserva\", \"metodo_pago\", \"gasto_por_persona\", \"gasto_por_duracion\"\n",
    "], conn)\n",
    "\n",
    "insertar_dataframe(feedback_df, \"feedback\", [\n",
    "    \"id_reserva\", \"calificacion_usuario\", \"comentarios\"\n",
    "], conn)\n",
    "\n",
    "# 6. Cerrar conexión\n",
    "conn.close()\n",
    "print(\"Inserción completada y conexión cerrada.\")"
   ]
  },
  {
   "cell_type": "markdown",
   "id": "d3840166",
   "metadata": {},
   "source": [
    "## Documentación: Creación y carga de base de datos en PostgreSQL desde Python\n",
    "Este documento resume paso a paso el proceso de creación de un modelo relacional para el dataset original, la implementación en PostgreSQL y la inserción automatizada de datos desde Python.\n",
    "- Se diseñó un modelo relacional con cinco tablas principales (usuarios, reservas, viajes, pagos y feedback).\n",
    "- Se creó una base de datos en PostgreSQL, y en ella se crearon las tablas manualmente en PostgreSQL con claves primarias y foráneas correspondientes.\n",
    "- Se preparó el dataset desde Python de acuerdo al modelo relacional. El CSV se dividió en 5 DataFrames temáticos, eliminando duplicados donde correspondía.\n",
    "- Se utilizó la librería `psycopg2` para establecer la conexión desde Python al motor de base de datos.\n",
    "- Se creó una función genérica para automatizar la inserción de datos en su tabla correspondiente.\n",
    "- Se ejecutó la función para cada tabla.\n",
    "- Resultado: Los datos del dataset fueron correctamente cargados en una base de datos relacional en PostgreSQL, estructurados y listos para ser consultados desde Python y herramientas de BI, optimizando así la gestión de información."
   ]
  },
  {
   "cell_type": "markdown",
   "id": "e2baad12",
   "metadata": {},
   "source": [
    "---"
   ]
  },
  {
   "cell_type": "markdown",
   "id": "3167ab4b",
   "metadata": {},
   "source": [
    "# Consultas SQL ejecutadas desde Python orientadas al análisis del negocio\n",
    "\n",
    "En esta sección se utilizarán **consultas SQL** sobre la base de datos relacional creada en PostgreSQL para:\n",
    "\n",
    "- Reproducir los **insights clave del análisis exploratorio** realizado previamente en Python\n",
    "- Demostrar **dominio del lenguaje SQL** para responder preguntas reales del negocio\n",
    "- Validar que la estructura relacional permite extraer información útil de forma eficiente\n",
    "- Potenciar el uso de SQL como herramienta fundamental del analista de datos\n",
    "\n",
    "Las consultas están orientadas a temas como los patrones de cancelación de reservas y satisfacción del cliente.\n",
    "\n",
    "Cada consulta responderá a una pregunta de negocio específica, y permitirá mostrar cómo se puede utilizar SQL para obtener valor directamente desde la base de datos, sin necesidad de otras herramientas."
   ]
  },
  {
   "cell_type": "code",
   "execution_count": 12,
   "id": "d8427abc",
   "metadata": {},
   "outputs": [],
   "source": [
    "# Conexión a PostgreSQL\n",
    "conn = psycopg2.connect(\n",
    "    host=\"localhost\",\n",
    "    dbname=\"proyecto_viajes_halcon\",\n",
    "    user=\"postgres\",\n",
    "    password=\"admin\",\n",
    "    port=5432\n",
    ")\n",
    "cursor = conn.cursor()\n",
    "# Crear una función para ejecutar consultas SQL\n",
    "def ejecutar_consulta(sql):\n",
    "    return pd.read_sql_query(sql, conn)"
   ]
  },
  {
   "cell_type": "markdown",
   "id": "350c3901",
   "metadata": {},
   "source": [
    "### Consulta 1: ¿Qué porcentaje de reservas en clase económica fueron canceladas en comparación con clases superiores?"
   ]
  },
  {
   "cell_type": "code",
   "execution_count": null,
   "id": "8c0e536a",
   "metadata": {},
   "outputs": [],
   "source": [
    "sql = \"\"\"\n",
    "SELECT clase_vuelo,\n",
    "       COUNT(*) AS total_reservas,\n",
    "       SUM(CASE WHEN cancelacion_reserva = 'si' THEN 1 ELSE 0 END) AS canceladas,\n",
    "       ROUND(100.0 * SUM(CASE WHEN cancelacion_reserva = 'si' THEN 1 ELSE 0 END) / COUNT(*), 2) AS porcentaje_cancelacion\n",
    "FROM reservas r\n",
    "JOIN viajes v ON r.id_reserva = v.id_reserva\n",
    "GROUP BY clase_vuelo\n",
    "ORDER BY porcentaje_cancelacion DESC; \"\"\"\n",
    "ejecutar_consulta(sql)\n",
    "# Objetivo: Confirmar si los clientes que reservan en clase económica cancelan con más frecuencia que los de clase ejecutiva o primera."
   ]
  },
  {
   "cell_type": "markdown",
   "id": "02949597",
   "metadata": {},
   "source": [
    "### Consulta 2: ¿Cómo varía la tasa de cancelación según la antelación de la reserva?"
   ]
  },
  {
   "cell_type": "code",
   "execution_count": null,
   "id": "87a879a6",
   "metadata": {},
   "outputs": [],
   "source": [
    "sql = \"\"\"\n",
    "SELECT\n",
    "    CASE \n",
    "        WHEN antelacion_reserva < 15 THEN '0-14 días'\n",
    "        WHEN antelacion_reserva BETWEEN 15 AND 30 THEN '15-30 días'\n",
    "        WHEN antelacion_reserva BETWEEN 31 AND 60 THEN '31-60 días'\n",
    "        ELSE '60+ días'\n",
    "    END AS rango_antelacion,\n",
    "    COUNT(*) AS total_reservas,\n",
    "    SUM(CASE WHEN cancelacion_reserva = 'si' THEN 1 ELSE 0 END) AS canceladas,\n",
    "    ROUND(100.0 * SUM(CASE WHEN cancelacion_reserva = 'si' THEN 1 ELSE 0 END) / COUNT(*), 2) AS porcentaje_cancelacion\n",
    "FROM reservas\n",
    "GROUP BY rango_antelacion\n",
    "ORDER BY porcentaje_cancelacion DESC;\n",
    " \"\"\"\n",
    "ejecutar_consulta(sql)\n",
    "# Objetivo: Comprender si las reservas hechas con poca antelación se cancelan más, lo que puede servir para ajustar las condiciones de cancelación."
   ]
  },
  {
   "cell_type": "markdown",
   "id": "95b07345",
   "metadata": {},
   "source": [
    "### Consulta 3: ¿Cuál es la relación entre la duración del viaje y la tasa de cancelación?"
   ]
  },
  {
   "cell_type": "code",
   "execution_count": null,
   "id": "efbc117e",
   "metadata": {},
   "outputs": [],
   "source": [
    "sql = \"\"\"\n",
    "SELECT\n",
    "    CASE \n",
    "        WHEN duracion_viaje <= 3 THEN '1-3 días'\n",
    "        WHEN duracion_viaje BETWEEN 4 AND 7 THEN '4-7 días'\n",
    "        WHEN duracion_viaje BETWEEN 8 AND 14 THEN '8-14 días'\n",
    "        ELSE '15+ días'\n",
    "    END AS rango_duracion,\n",
    "    COUNT(*) AS total_reservas,\n",
    "    SUM(CASE WHEN cancelacion_reserva = 'si' THEN 1 ELSE 0 END) AS canceladas,\n",
    "    ROUND(100.0 * SUM(CASE WHEN cancelacion_reserva = 'si' THEN 1 ELSE 0 END) / COUNT(*), 2) AS porcentaje_cancelacion\n",
    "FROM reservas\n",
    "GROUP BY rango_duracion\n",
    "ORDER BY porcentaje_cancelacion DESC; \"\"\"\n",
    "ejecutar_consulta(sql)\n",
    "# Objetivo: Permite observar si los viajes más cortos tienen mayor tendencia a cancelarse, lo cual influye en decisiones sobre promociones o penalizaciones."
   ]
  },
  {
   "cell_type": "markdown",
   "id": "ec737f0c",
   "metadata": {},
   "source": [
    "### Consulta 4: ¿Qué grupo de edad presenta la mayor tasa de cancelación?"
   ]
  },
  {
   "cell_type": "code",
   "execution_count": null,
   "id": "7b2fd236",
   "metadata": {},
   "outputs": [],
   "source": [
    "sql = \"\"\"\n",
    "SELECT rango_edad,\n",
    "       COUNT(*) AS total_reservas,\n",
    "       SUM(CASE WHEN cancelacion_reserva = 'si' THEN 1 ELSE 0 END) AS canceladas,\n",
    "       ROUND(100.0 * SUM(CASE WHEN cancelacion_reserva = 'si' THEN 1 ELSE 0 END) / COUNT(*), 2) AS porcentaje_cancelacion\n",
    "FROM reservas r\n",
    "JOIN usuarios u ON r.id_usuario = u.id_usuario\n",
    "GROUP BY rango_edad\n",
    "ORDER BY porcentaje_cancelacion DESC;\n",
    " \"\"\"\n",
    "ejecutar_consulta(sql)\n",
    "# Objetivo: Identifica si los jóvenes (19-30 años) cancelan con más frecuencia, lo que ayuda a ajustar la estrategia comercial por segmento etario."
   ]
  },
  {
   "cell_type": "markdown",
   "id": "94245ba9",
   "metadata": {},
   "source": [
    "### Consulta 5: ¿Qué tipo de viajero cancela más: turista o negocio?"
   ]
  },
  {
   "cell_type": "code",
   "execution_count": null,
   "id": "1e8cc1d7",
   "metadata": {},
   "outputs": [],
   "source": [
    "sql = \"\"\"\n",
    "SELECT tipo_viajero,\n",
    "       COUNT(*) AS total_reservas,\n",
    "       SUM(CASE WHEN cancelacion_reserva = 'si' THEN 1 ELSE 0 END) AS canceladas,\n",
    "       ROUND(100.0 * SUM(CASE WHEN cancelacion_reserva = 'si' THEN 1 ELSE 0 END) / COUNT(*), 2) AS porcentaje_cancelacion\n",
    "FROM reservas r\n",
    "JOIN usuarios u ON r.id_usuario = u.id_usuario\n",
    "GROUP BY tipo_viajero\n",
    "ORDER BY porcentaje_cancelacion DESC;\n",
    " \"\"\"\n",
    "ejecutar_consulta(sql)\n",
    "# Objetivo: Evalúa si los turistas cancelan más que los viajeros de negocios, lo que permite orientar las políticas comerciales y campañas de fidelización."
   ]
  },
  {
   "cell_type": "markdown",
   "id": "16762e09",
   "metadata": {},
   "source": [
    "### Consulta 6: ¿Qué tipo de paquete genera más cancelaciones?"
   ]
  },
  {
   "cell_type": "code",
   "execution_count": null,
   "id": "e353934b",
   "metadata": {},
   "outputs": [],
   "source": [
    "sql = \"\"\"\n",
    "SELECT tipo_paquete,\n",
    "       COUNT(*) AS total_reservas,\n",
    "       SUM(CASE WHEN cancelacion_reserva = 'si' THEN 1 ELSE 0 END) AS canceladas,\n",
    "       ROUND(100.0 * SUM(CASE WHEN cancelacion_reserva = 'si' THEN 1 ELSE 0 END) / COUNT(*), 2) AS porcentaje_cancelacion\n",
    "FROM reservas\n",
    "GROUP BY tipo_paquete\n",
    "ORDER BY porcentaje_cancelacion DESC;\n",
    " \"\"\"\n",
    "ejecutar_consulta(sql)\n",
    "# Objetivo: Detecta si el tipo 'solo_vuelo' tiene tasas de cancelación especialmente altas y si debería excluirse de promociones generales."
   ]
  },
  {
   "cell_type": "markdown",
   "id": "9d05b280",
   "metadata": {},
   "source": [
    "### Consulta 7: ¿Qué tipo de alojamiento está más asociado a cancelaciones?"
   ]
  },
  {
   "cell_type": "code",
   "execution_count": null,
   "id": "a930ea04",
   "metadata": {},
   "outputs": [],
   "source": [
    "sql = \"\"\"\n",
    "SELECT tipo_alojamiento,\n",
    "       COUNT(*) AS total_reservas,\n",
    "       SUM(CASE WHEN r.cancelacion_reserva = 'si' THEN 1 ELSE 0 END) AS canceladas,\n",
    "       ROUND(100.0 * SUM(CASE WHEN r.cancelacion_reserva = 'si' THEN 1 ELSE 0 END) / COUNT(*), 2) AS porcentaje_cancelacion\n",
    "FROM reservas r\n",
    "JOIN viajes v ON r.id_reserva = v.id_reserva\n",
    "GROUP BY tipo_alojamiento\n",
    "ORDER BY porcentaje_cancelacion DESC;\n",
    " \"\"\"\n",
    "ejecutar_consulta(sql)\n",
    "# Objetivo: Permite evaluar si los hoteles tienen una política de cancelación más permisiva que otros alojamientos como Airbnb o resorts."
   ]
  },
  {
   "cell_type": "markdown",
   "id": "f5adcf25",
   "metadata": {},
   "source": [
    "### Consulta 8: ¿Qué motivos aparecen con más frecuencia en los comentarios de reservas canceladas?"
   ]
  },
  {
   "cell_type": "code",
   "execution_count": null,
   "id": "38fb1b9f",
   "metadata": {},
   "outputs": [],
   "source": [
    "sql = \"\"\"\n",
    "SELECT comentarios,\n",
    "       COUNT(*) AS cantidad\n",
    "FROM feedback f\n",
    "JOIN reservas r ON f.id_reserva = r.id_reserva\n",
    "WHERE cancelacion_reserva = 'si'\n",
    "GROUP BY comentarios\n",
    "ORDER BY cantidad DESC;\n",
    " \"\"\"\n",
    "ejecutar_consulta(sql)\n",
    "# Objetivo: Detecta los principales motivos por los cuales los usuarios cancelan, como “problemas con la reserva” o “no me gustó el servicio”."
   ]
  },
  {
   "cell_type": "markdown",
   "id": "3e5cb44f",
   "metadata": {},
   "source": [
    "### Consulta 9: ¿Qué fuente de reserva tiene más cancelaciones?"
   ]
  },
  {
   "cell_type": "code",
   "execution_count": null,
   "id": "5d4fcd0a",
   "metadata": {},
   "outputs": [],
   "source": [
    "sql = \"\"\"\n",
    "SELECT fuente_reserva,\n",
    "       COUNT(*) AS total_reservas,\n",
    "       SUM(CASE WHEN cancelacion_reserva = 'si' THEN 1 ELSE 0 END) AS canceladas,\n",
    "       ROUND(100.0 * SUM(CASE WHEN cancelacion_reserva = 'si' THEN 1 ELSE 0 END) / COUNT(*), 2) AS tasa_cancelacion\n",
    "FROM reservas\n",
    "GROUP BY fuente_reserva\n",
    "ORDER BY tasa_cancelacion DESC;\n",
    " \"\"\"\n",
    "ejecutar_consulta(sql)\n",
    "# Objetivo: Ayuda a identificar si los usuarios que reservan mediante app móvil o agentes son más propensos a cancelar."
   ]
  },
  {
   "cell_type": "markdown",
   "id": "393cbf52",
   "metadata": {},
   "source": [
    "### Consulta 10: ¿Qué tipo de paquete cancelan más los jóvenes (19-30)?"
   ]
  },
  {
   "cell_type": "code",
   "execution_count": null,
   "id": "3452c2e1",
   "metadata": {},
   "outputs": [],
   "source": [
    "sql = \"\"\"\n",
    "SELECT tipo_paquete,\n",
    "       COUNT(*) AS total_reservas,\n",
    "       SUM(CASE WHEN cancelacion_reserva = 'si' THEN 1 ELSE 0 END) AS canceladas,\n",
    "       ROUND(100.0 * SUM(CASE WHEN cancelacion_reserva = 'si' THEN 1 ELSE 0 END) / COUNT(*), 2) AS porcentaje_cancelacion\n",
    "FROM reservas r\n",
    "JOIN usuarios u ON r.id_usuario = u.id_usuario\n",
    "WHERE rango_edad = '19-30'\n",
    "GROUP BY tipo_paquete\n",
    "ORDER BY porcentaje_cancelacion DESC;\n",
    "\"\"\"\n",
    "ejecutar_consulta(sql)\n",
    "# Objetivo: Evalúa si los usuarios jóvenes tienden a cancelar más cuando reservan paquetes específicos, como ‘solo_vuelo’."
   ]
  }
 ],
 "metadata": {
  "kernelspec": {
   "display_name": "Python 3",
   "language": "python",
   "name": "python3"
  },
  "language_info": {
   "codemirror_mode": {
    "name": "ipython",
    "version": 3
   },
   "file_extension": ".py",
   "mimetype": "text/x-python",
   "name": "python",
   "nbconvert_exporter": "python",
   "pygments_lexer": "ipython3",
   "version": "3.12.2"
  }
 },
 "nbformat": 4,
 "nbformat_minor": 5
}
