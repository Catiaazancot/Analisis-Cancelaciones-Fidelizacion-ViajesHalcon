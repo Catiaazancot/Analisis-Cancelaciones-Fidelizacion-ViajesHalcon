{
 "cells": [
  {
   "cell_type": "markdown",
   "metadata": {},
   "source": [
    "# Clustering para segmentación de clientes"
   ]
  },
  {
   "cell_type": "markdown",
   "metadata": {},
   "source": [
    "El objetivo de este análisis de clustering es identificar grupos de clientes con características similares, lo que permitirá a la empresa personalizar las ofertas y mejorar la retención de los clientes, reduciendo las cancelaciones y optimizando las promociones."
   ]
  },
  {
   "cell_type": "code",
   "execution_count": null,
   "metadata": {},
   "outputs": [],
   "source": [
    "# Importación de paquetes\n",
    "import pandas as pd\n",
    "from sklearn.preprocessing import StandardScaler\n",
    "from sklearn.cluster import KMeans\n",
    "import matplotlib.pyplot as plt"
   ]
  },
  {
   "cell_type": "code",
   "execution_count": null,
   "metadata": {},
   "outputs": [],
   "source": [
    "df = pd.read_csv(\"../data/halcon_viajes_limpios.csv\") # Cargar el dataset"
   ]
  },
  {
   "cell_type": "markdown",
   "metadata": {},
   "source": [
    "### Paso 1: Preparación de los datos"
   ]
  },
  {
   "cell_type": "code",
   "execution_count": null,
   "metadata": {},
   "outputs": [],
   "source": [
    "# Seleccionar las columnas relevantes para el clustering\n",
    "variables = ['edad', 'antelacion_reserva', 'duracion_viaje', 'costo_total', \n",
    "            'numero_personas', 'tipo_paquete', 'clase_vuelo']\n",
    "\n",
    "# Filtrar el dataset para que solo contenga las columnas seleccionadas\n",
    "df_clustering = df[variables]\n",
    "\n",
    "# Aplicar One-Hot Encoding a las columnas categóricas 'tipo_paquete' y 'clase_vuelo'\n",
    "df_clustering = pd.get_dummies(df_clustering, columns=['tipo_paquete', 'clase_vuelo'], drop_first=True)\n",
    "\n",
    "# Escalar las variables numéricas\n",
    "numerical_features = ['edad', 'antelacion_reserva', 'duracion_viaje', 'costo_total', 'numero_personas']\n",
    "scaler = StandardScaler()\n",
    "df_clustering[numerical_features] = scaler.fit_transform(df_clustering[numerical_features])\n",
    "\n",
    "# Verificar cómo quedaron las columnas\n",
    "df_clustering.head()"
   ]
  },
  {
   "cell_type": "markdown",
   "metadata": {},
   "source": [
    "### Paso 2: Aplicación de K-Means para Clustering"
   ]
  },
  {
   "cell_type": "code",
   "execution_count": null,
   "metadata": {},
   "outputs": [],
   "source": [
    "# Aplicar K-Means con 3 clusters\n",
    "kmeans = KMeans(n_clusters=3, random_state=42)\n",
    "\n",
    "# Ajustar el modelo\n",
    "df_clustering['cluster'] = kmeans.fit_predict(df_clustering)\n",
    "\n",
    "# Visualizar los resultados con un gráfico de dispersión de los dos primeros componentes principales\n",
    "plt.figure(figsize=(8,6))\n",
    "plt.scatter(df_clustering['edad'], df_clustering['costo_total'], c=df_clustering['cluster'], cmap='viridis')\n",
    "plt.xlabel('Edad')\n",
    "plt.ylabel('Costo Total')\n",
    "plt.title('Segmentación de Clientes por Edad y Costo Total')\n",
    "plt.colorbar(label='Cluster')\n",
    "plt.show()\n",
    "\n",
    "# Ver las primeras filas con la asignación de clusters\n",
    "df_clustering.head()"
   ]
  },
  {
   "cell_type": "markdown",
   "metadata": {},
   "source": [
    "### Paso 3: Análisis de la relación entre los clusters y las cancelaciones"
   ]
  },
  {
   "cell_type": "code",
   "execution_count": null,
   "metadata": {},
   "outputs": [],
   "source": [
    "# Asegurarnos de que estamos utilizando la columna 'cancelacion_reserva' desde el dataFrame original\n",
    "df_clustering['cancelacion_reserva'] = df['cancelacion_reserva']\n",
    "\n",
    "# Analizar la relación entre los clusters y la tasa de cancelaciones\n",
    "cluster_cancelations = df_clustering.groupby('cluster')['cancelacion_reserva'].value_counts().unstack()\n",
    "\n",
    "# Mostrar la distribución de cancelaciones en cada cluster\n",
    "cluster_cancelations.plot(kind='bar', stacked=True, colormap='coolwarm', figsize=(8,6))\n",
    "plt.title('Distribución de Cancelaciones por Cluster')\n",
    "plt.xlabel('Cluster')\n",
    "plt.ylabel('Cantidad de Clientes')\n",
    "plt.xticks(rotation=0)\n",
    "plt.legend(['No Cancelado', 'Cancelado'])\n",
    "plt.show()"
   ]
  },
  {
   "cell_type": "markdown",
   "metadata": {},
   "source": [
    "### Paso 4: Distribución de los clusters por tipo de paquete y clase de vuelo"
   ]
  },
  {
   "cell_type": "code",
   "execution_count": null,
   "metadata": {},
   "outputs": [],
   "source": [
    "# Gráfico de distribución de los clusters por tipo de paquete\n",
    "plt.figure(figsize=(8,6))\n",
    "df_clustering.groupby('cluster')['tipo_paquete_vuelo_hotel_tour'].value_counts().unstack().plot(kind='bar', stacked=True, colormap='viridis')\n",
    "plt.title('Distribución de Clusters por Tipo de Paquete')\n",
    "plt.xlabel('Cluster')\n",
    "plt.ylabel('Cantidad de Clientes')\n",
    "plt.xticks(rotation=0)\n",
    "plt.show()"
   ]
  },
  {
   "cell_type": "code",
   "execution_count": null,
   "metadata": {},
   "outputs": [],
   "source": [
    "# Gráfico de distribución de los clusters por clase de vuelo (ejecutiva y primera clase)\n",
    "plt.figure(figsize=(8,6))\n",
    "df_clustering.groupby('cluster')['clase_vuelo_ejecutiva'].value_counts().unstack().plot(kind='bar', stacked=True, colormap='viridis')\n",
    "df_clustering.groupby('cluster')['clase_vuelo_primera_clase'].value_counts().unstack().plot(kind='bar', stacked=True, colormap='plasma', alpha=0.5)\n",
    "plt.title('Distribución de Clusters por Clase de Vuelo')\n",
    "plt.xlabel('Cluster')\n",
    "plt.ylabel('Cantidad de Clientes')\n",
    "plt.xticks(rotation=0)\n",
    "plt.legend(['Ejecutiva', 'Primera Clase'])\n",
    "plt.show()"
   ]
  },
  {
   "cell_type": "markdown",
   "metadata": {},
   "source": [
    "### Paso 5: Perfiles de los Clusters"
   ]
  },
  {
   "cell_type": "code",
   "execution_count": null,
   "metadata": {},
   "outputs": [],
   "source": [
    "# Ver las características promedio de los clientes en cada cluster\n",
    "cluster_profiles = df_clustering.groupby('cluster').mean()\n",
    "\n",
    "# Mostrar las características promedio por cluster\n",
    "print(cluster_profiles)"
   ]
  },
  {
   "cell_type": "markdown",
   "metadata": {},
   "source": [
    "## Conclusiones del análisis de clustering para segmentación de clientes"
   ]
  },
  {
   "cell_type": "markdown",
   "metadata": {},
   "source": [
    "**Cluster 0: Clientes impulsivos y de bajo gasto**\n",
    "- Perfil: Este grupo está compuesto principalmente por clientes jóvenes, que tienden a hacer reservas de bajo costo y prefieren viajes cortos. La antelación de reserva es baja, lo que sugiere una tendencia impulsiva en sus decisiones.\n",
    "\n",
    "- Comportamiento de Cancelación: Este cluster presenta una alta tasa de cancelación, lo que indica que los clientes en este grupo pueden ser más propensos a cambiar o cancelar sus planes de viaje.\n",
    "\n",
    "- Recomendación: Para reducir las cancelaciones en este grupo, se podrían ofrecer promociones atractivas o descuentos especiales para incentivar la fidelidad y el compromiso con las reservas. \n",
    "\n",
    "**Cluster 1: Clientes premium y planificadores**\n",
    "- Perfil: Este grupo está compuesto por clientes de mayor edad, con un poder adquisitivo más alto. Prefieren realizar sus reservas con anticipación y optan por paquetes completos como vuelo + hotel + tour. Además, tienden a elegir clases superiores de vuelo (ejecutiva y primera clase).\n",
    "\n",
    "- Comportamiento de Cancelación: A pesar de su preferencia por planificar sus viajes con tiempo, este grupo tiene una tasa de cancelación baja, aunque no nula.\n",
    "\n",
    "- Recomendación: Este grupo podría beneficiarse de una personalización más específica en las ofertas. Se podrían ofrecer paquetes exclusivos o de lujo, destacando beneficios adicionales.\n",
    "\n",
    "**Cluster 2: Clientes intermedios y comprometidos**\n",
    "- Perfil: Los clientes en este grupo son de edad media y tienden a realizar reservas de bajo costo. Prefieren viajes más largos y, aunque optan por paquetes más simples, muestran un comportamiento de reserva comprometido.\n",
    "\n",
    "- Comportamiento de Cancelación: Este grupo tiene una baja tasa de cancelación, lo que indica que los clientes son relativamente comprometidos con sus reservas y tienen menos probabilidades de cancelarlas.\n",
    "\n",
    "- Recomendación: Para mantener el alto nivel de fidelidad de este grupo, se podrían ofrecer paquetes intermedios o paquetes personalizados. También se podrían ofrecer incentivos para aumentar el gasto, como descuentos en actividades adicionales o servicios."
   ]
  },
  {
   "cell_type": "markdown",
   "metadata": {},
   "source": [
    "El análisis de clustering ha permitido **segmentar a los clientes en grupos con características y comportamientos de compra similares**, lo que proporciona insights valiosos para **personalizar ofertas y ajustar estrategias de marketing** basadas en el comportamiento de los clientes. De esta manera, conseguimos mejorar la experiencia del cliente y reducir las cancelaciones."
   ]
  }
 ],
 "metadata": {
  "kernelspec": {
   "display_name": "Python 3",
   "language": "python",
   "name": "python3"
  },
  "language_info": {
   "codemirror_mode": {
    "name": "ipython",
    "version": 3
   },
   "file_extension": ".py",
   "mimetype": "text/x-python",
   "name": "python",
   "nbconvert_exporter": "python",
   "pygments_lexer": "ipython3",
   "version": "3.12.2"
  }
 },
 "nbformat": 4,
 "nbformat_minor": 2
}
